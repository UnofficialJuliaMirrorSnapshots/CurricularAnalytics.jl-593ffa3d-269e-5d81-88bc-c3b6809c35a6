{
 "cells": [
  {
   "cell_type": "markdown",
   "metadata": {},
   "source": [
    "# <center>Introduction to the Curricular Analytics Toolbox</center>\n",
    "\n",
    "<center>\n",
    "    <b>Gregory L. Heileman$^\\dagger$, William G. Thompson-Arjona$^\\dagger$, Orhan Abar$^\\ddagger$ and Hayden W. Free$^\\ddagger$</b> <br>\n",
    "    $^\\dagger$Department of Electrical & Computer Engineering <br>\n",
    "    $^\\ddagger$Department of Computer Science <br>\n",
    "    Univeristy of Kentucky <br>\n",
    "    {greg.heileman, wgthompson, orhan.abar,  hayden.free}@uky.edu\n",
    "</center>"
   ]
  },
  {
   "cell_type": "markdown",
   "metadata": {},
   "source": [
    "## Introduction\n",
    "Often overlooked, complexity of a course schedule may be one of the most important factors in whether or not a student successfully completes his or her degree. \n",
    "\n",
    "As students progress through a curricula they are met with significant headwinds, whether that be financial or academic. Considering the significant investment made by familes and the delay attributed to drop out, it becomes paramount for institutions to focus on student success in relation to term scheduling. \n",
    "\n",
    "Using the recently developed curricular analytics toolbox (see <cite data-cite=\"he:18\">Heileman, et. al, (2018)</cite>) administrators can now easily analyze their curricula in efforts to design simpler course progressions while maintaining the same learning outcomes. \n",
    "\n",
    "In the following example, we will walk through the importing of an example curricula into the toolbox with ends to quantify its complexity. We will then compare these metrics to a second curricula to benchmark the differences simple scheduling adjustments make. \n",
    "\n",
    "The starting point of this notebook assumes Julia has been succsesfully installed. Environmental setup to be included in seperate notebook.\n"
   ]
  },
  {
   "cell_type": "markdown",
   "metadata": {},
   "source": [
    "## Initialization of Package\n",
    "\n",
    "In order to use the toolbox the package must be initialized. This is done by the following:"
   ]
  },
  {
   "cell_type": "code",
   "execution_count": 1,
   "metadata": {},
   "outputs": [
    {
     "data": {
      "text/html": [
       "    <script class='js-collapse-script'>\n",
       "        var curMatch =\n",
       "            window.location.href\n",
       "            .match(/(.*?)\\/notebooks\\/.*\\.ipynb/);\n",
       "\n",
       "        curMatch = curMatch ||\n",
       "            window.location.href\n",
       "            .match(/(.*?)\\/apps\\/.*\\.ipynb/);\n",
       "\n",
       "        if ( curMatch ) {\n",
       "            $('head').append('<base href=\"' + curMatch[1] + '/\">');\n",
       "        }\n",
       "    </script>\n"
      ],
      "text/plain": [
       "HTML{String}(\"    <script class='js-collapse-script'>\\n        var curMatch =\\n            window.location.href\\n            .match(/(.*?)\\\\/notebooks\\\\/.*\\\\.ipynb/);\\n\\n        curMatch = curMatch ||\\n            window.location.href\\n            .match(/(.*?)\\\\/apps\\\\/.*\\\\.ipynb/);\\n\\n        if ( curMatch ) {\\n            \\$('head').append('<base href=\\\"' + curMatch[1] + '/\\\">');\\n        }\\n    </script>\\n\")"
      ]
     },
     "metadata": {},
     "output_type": "display_data"
    },
    {
     "data": {
      "text/html": [
       "<script class='js-collapse-script' src='/assetserver/dc719bacf596d5e9d61e75d9b1921a0f8cbb8acb-assets/webio/dist/bundle.js'></script>"
      ],
      "text/plain": [
       "HTML{String}(\"<script class='js-collapse-script' src='/assetserver/dc719bacf596d5e9d61e75d9b1921a0f8cbb8acb-assets/webio/dist/bundle.js'></script>\")"
      ]
     },
     "metadata": {},
     "output_type": "display_data"
    },
    {
     "data": {
      "text/html": [
       "<script class='js-collapse-script' src='/assetserver/dc719bacf596d5e9d61e75d9b1921a0f8cbb8acb-assets/providers/ijulia_setup.js'></script>"
      ],
      "text/plain": [
       "HTML{String}(\"<script class='js-collapse-script' src='/assetserver/dc719bacf596d5e9d61e75d9b1921a0f8cbb8acb-assets/providers/ijulia_setup.js'></script>\")"
      ]
     },
     "metadata": {},
     "output_type": "display_data"
    },
    {
     "data": {
      "text/html": [
       "  <script class='js-collapse-script'>\n",
       "    $('.js-collapse-script').parent('.output_subarea').css('padding', '0');\n",
       "  </script>\n"
      ],
      "text/plain": [
       "HTML{String}(\"  <script class='js-collapse-script'>\\n    \\$('.js-collapse-script').parent('.output_subarea').css('padding', '0');\\n  </script>\\n\")"
      ]
     },
     "metadata": {},
     "output_type": "display_data"
    }
   ],
   "source": [
    "using Pkg\n",
    "Pkg.add(\"CurricularAnalytics\")  \n",
    "using CurricularAnalytics"
   ]
  },
  {
   "cell_type": "markdown",
   "metadata": {},
   "source": [
    "## Create Course Array \n",
    "\n",
    "To begin creating the curricula, you must first enter the number of courses. This will create the size of the array that will include all the courses. In our example, we have 4 courses total. \n",
    "\n"
   ]
  },
  {
   "cell_type": "code",
   "execution_count": 2,
   "metadata": {},
   "outputs": [
    {
     "data": {
      "text/plain": [
       "4-element Array{Course,1}:\n",
       " #undef\n",
       " #undef\n",
       " #undef\n",
       " #undef"
      ]
     },
     "execution_count": 2,
     "metadata": {},
     "output_type": "execute_result"
    }
   ],
   "source": [
    "c = Array{Course}(undef, 4)"
   ]
  },
  {
   "cell_type": "markdown",
   "metadata": {},
   "source": [
    "## Create Courses\n",
    "At this point each course will need to be uniquely defined. Each course object will need to have the following information at a minimum :\n",
    "1. Name\n",
    "2. Credit Hours\n",
    "\n",
    "Optionally, the following information may be added:\n",
    "1. Prefix\n",
    "2. Number\n",
    "3. Institution\n",
    "4. Conical Name\n",
    "5. Learning Outcome\n",
    "\n",
    "In our example a simple progression to Circuits 1 is examined. The required data should be entered in the following format:\n"
   ]
  },
  {
   "cell_type": "code",
   "execution_count": 7,
   "metadata": {},
   "outputs": [
    {
     "data": {
      "text/plain": [
       "Course(1227877464, Dict{Int64,Int64}(), \"Circuits 1\", 3, \"EE\", \"2200\", \"\", \"\", Dict{Int64,Requisite}(), LearningOutcome[], Dict{String,Any}())"
      ]
     },
     "execution_count": 7,
     "metadata": {},
     "output_type": "execute_result"
    }
   ],
   "source": [
    "c[1] = Course(\"Calculus 1\", 3, prefix = \"MATH \", num = \"1011\")\n",
    "c[2] = Course(\"Physics I: Mechanics & Heat\", 3, prefix = \"PHYS\", num = \"1112\")\n",
    "c[3] = Course(\"Multivariable Calc. for Engineers\", 3, prefix = \"MATH\", num = \"1920\")\n",
    "c[4] = Course(\"Circuits 1\", 3, prefix = \"EE\", num = \"2200\")\n"
   ]
  },
  {
   "cell_type": "markdown",
   "metadata": {},
   "source": [
    "## Adding Requisites to Classes\n",
    "Once the courses have been entered, it is necessary to add the prerequisites, corequisites, and strict corequisites to each course. Requisites are defined as the following:\n",
    "\n",
    "- `pre` : a prerequisite course that must be passed before the target course can be attempted.\n",
    "- `co`  : a co-requisite course that may be taken before or at the same time as the target course.\n",
    "- `strict_co` : a strict co-requisite course that must be taken at the same time as the target course.\n",
    "\n",
    "The data format for entering these is shown below. In our example, *Calculus One* defined as course 1 above is a prerequiste for the target course *Physics 1: Mechancis and Heat*, defined as course 2 above. As such:"
   ]
  },
  {
   "cell_type": "code",
   "execution_count": 20,
   "metadata": {},
   "outputs": [
    {
     "data": {
      "text/plain": [
       "pre::Requisite = 0"
      ]
     },
     "execution_count": 20,
     "metadata": {},
     "output_type": "execute_result"
    }
   ],
   "source": [
    "add_requisite!(c[1],c[2],pre)"
   ]
  },
  {
   "cell_type": "markdown",
   "metadata": {},
   "source": [
    "Now add the other requisites. In our example:"
   ]
  },
  {
   "cell_type": "code",
   "execution_count": 21,
   "metadata": {},
   "outputs": [
    {
     "data": {
      "text/plain": [
       "pre::Requisite = 0"
      ]
     },
     "execution_count": 21,
     "metadata": {},
     "output_type": "execute_result"
    }
   ],
   "source": [
    "add_requisite!(c[1],c[3],pre)\n",
    "add_requisite!(c[2],c[4],pre)"
   ]
  },
  {
   "cell_type": "markdown",
   "metadata": {},
   "source": [
    "## Create Curricula\n",
    "Not to be confused with a degree plan, a curricula is simply defined as the courses needed to be taken in order to fulfill degree requirments along with their corresponding requisites. The time element of terms will later be introduced when creating a degree plan. \n",
    "\n",
    "In our example the curriculum is created by the following. Note any name can be given to the curriculum in the \"\""
   ]
  },
  {
   "cell_type": "code",
   "execution_count": 9,
   "metadata": {},
   "outputs": [
    {
     "data": {
      "text/plain": [
       "Curriculum(3703527048, \"Example Curricula c1\", \"\", BS::Degree = 4, semester::System = 0, \"26.0101\", Course[Course(177051436, Dict(3703527048=>1), \"Physics I: Mechanics & Heat\", 3, \"PHYS\", \"1112\", \"\", \"\", Dict{Int64,Requisite}(), LearningOutcome[], Dict{String,Any}()), Course(1227877464, Dict(3703527048=>2), \"Circuits 1\", 3, \"EE\", \"2200\", \"\", \"\", Dict(177051436=>pre), LearningOutcome[], Dict{String,Any}()), Course(2644941087, Dict(3703527048=>3), \"Multivariable Calc. for Engineers\", 3, \"MATH\", \"1920\", \"\", \"\", Dict(3210423472=>pre), LearningOutcome[], Dict{String,Any}()), Course(3210423472, Dict(3703527048=>4), \"Calculus 1\", 3, \"MATH \", \"1011\", \"\", \"\", Dict{Int64,Requisite}(), LearningOutcome[], Dict{String,Any}())], 4, 12, {4, 2} directed simple Int64 graph, LearningOutcome[], Dict{String,Any}())"
      ]
     },
     "execution_count": 9,
     "metadata": {},
     "output_type": "execute_result"
    }
   ],
   "source": [
    "curric = Curriculum(\"Example Curricula c1\", c)"
   ]
  },
  {
   "cell_type": "markdown",
   "metadata": {},
   "source": [
    "## Create Degree Plan\n",
    "Degree plans give the sequential time element to a curricula. They serve as a primary benchmark to advise students when to take a course, and as such they should be carefully studied and optimized by administrators. \n",
    "\n",
    "To create the degree plan for the above curricula, the first thing that should be defined is the amount of terms: In our example, we only have 3:"
   ]
  },
  {
   "cell_type": "code",
   "execution_count": 10,
   "metadata": {},
   "outputs": [
    {
     "data": {
      "text/plain": [
       "3-element Array{Term,1}:\n",
       " #undef\n",
       " #undef\n",
       " #undef"
      ]
     },
     "execution_count": 10,
     "metadata": {},
     "output_type": "execute_result"
    }
   ],
   "source": [
    "terms = Array{Term}(undef, 3)"
   ]
  },
  {
   "cell_type": "markdown",
   "metadata": {},
   "source": [
    "Now, each one of the terms should be seperated by their respective courses:"
   ]
  },
  {
   "cell_type": "code",
   "execution_count": 11,
   "metadata": {},
   "outputs": [
    {
     "data": {
      "text/plain": [
       "Term(Course[Course(1227877464, Dict(3703527048=>2), \"Circuits 1\", 3, \"EE\", \"2200\", \"\", \"\", Dict(177051436=>pre), LearningOutcome[], Dict{String,Any}())], 1, 3, Dict{String,Any}())"
      ]
     },
     "execution_count": 11,
     "metadata": {},
     "output_type": "execute_result"
    }
   ],
   "source": [
    "terms[1] = Term([c[1]])\n",
    "terms[2] = Term([c[2],c[3]])\n",
    "terms[3] = Term([c[4]])"
   ]
  },
  {
   "cell_type": "markdown",
   "metadata": {},
   "source": [
    "Now the degree plan can be created with the desired name given in \"\""
   ]
  },
  {
   "cell_type": "code",
   "execution_count": 12,
   "metadata": {},
   "outputs": [
    {
     "data": {
      "text/plain": [
       "DegreePlan(\"Example Curricula C1\", Curriculum(3703527048, \"Example Curricula c1\", \"\", BS::Degree = 4, semester::System = 0, \"26.0101\", Course[Course(177051436, Dict(3703527048=>1), \"Physics I: Mechanics & Heat\", 3, \"PHYS\", \"1112\", \"\", \"\", Dict{Int64,Requisite}(), LearningOutcome[], Dict{String,Any}()), Course(1227877464, Dict(3703527048=>2), \"Circuits 1\", 3, \"EE\", \"2200\", \"\", \"\", Dict(177051436=>pre), LearningOutcome[], Dict{String,Any}()), Course(2644941087, Dict(3703527048=>3), \"Multivariable Calc. for Engineers\", 3, \"MATH\", \"1920\", \"\", \"\", Dict(3210423472=>pre), LearningOutcome[], Dict{String,Any}()), Course(3210423472, Dict(3703527048=>4), \"Calculus 1\", 3, \"MATH \", \"1011\", \"\", \"\", Dict{Int64,Requisite}(), LearningOutcome[], Dict{String,Any}())], 4, 12, {4, 2} directed simple Int64 graph, LearningOutcome[], Dict{String,Any}()), #undef, #undef, Term[Term(Course[Course(3210423472, Dict(3703527048=>4), \"Calculus 1\", 3, \"MATH \", \"1011\", \"\", \"\", Dict{Int64,Requisite}(), LearningOutcome[], Dict{String,Any}())], 1, 3, Dict{String,Any}()), Term(Course[Course(177051436, Dict(3703527048=>1), \"Physics I: Mechanics & Heat\", 3, \"PHYS\", \"1112\", \"\", \"\", Dict{Int64,Requisite}(), LearningOutcome[], Dict{String,Any}()), Course(2644941087, Dict(3703527048=>3), \"Multivariable Calc. for Engineers\", 3, \"MATH\", \"1920\", \"\", \"\", Dict(3210423472=>pre), LearningOutcome[], Dict{String,Any}())], 2, 6, Dict{String,Any}()), Term(Course[Course(1227877464, Dict(3703527048=>2), \"Circuits 1\", 3, \"EE\", \"2200\", \"\", \"\", Dict(177051436=>pre), LearningOutcome[], Dict{String,Any}())], 1, 3, Dict{String,Any}())], 3, 12, Dict{String,Any}())"
      ]
     },
     "execution_count": 12,
     "metadata": {},
     "output_type": "execute_result"
    }
   ],
   "source": [
    "dp = DegreePlan(\"Example Curricula C1\", curric, terms)"
   ]
  },
  {
   "cell_type": "markdown",
   "metadata": {},
   "source": [
    "## Verification\n",
    "The curriuclar analytics toolbox includes functionality to test whether or not the degree plan associated with the created curriculum is valid. This helps administrators in the following capacities:\n",
    "1. Cycles Check : If the curriculum contains a directed cycle, it is not possible to complete the curriculum. \n",
    "2. Extraneous Requisites Check : These are redundant requisites that introduce spurious complexity.\n",
    "\n",
    "If there are errors, the program will enunciate these immediately while describing which one of the above was violated. \n",
    "\n",
    "The check can be run by the following command:"
   ]
  },
  {
   "cell_type": "code",
   "execution_count": 14,
   "metadata": {},
   "outputs": [
    {
     "name": "stdout",
     "output_type": "stream",
     "text": [
      "Curriculum Example Curricula c1 is valid\n"
     ]
    }
   ],
   "source": [
    "errors = IOBuffer()\n",
    "if isvalid_curriculum(curric, errors)\n",
    "    println(\"Curriculum $(curric.name) is valid\")\n",
    "    else\n",
    "    println(\"Curriculum $(curric.name) is not valid:\")\n",
    "    print(String(take!(errors)))\n",
    "end"
   ]
  },
  {
   "cell_type": "markdown",
   "metadata": {},
   "source": [
    "## Analytics\n",
    "Now that we have created the curriculum, associated degree plan, and verified there are no errors, we can quantitatively analyze the plan, and more specifically, the courses. We will first begin with delay factor.\n",
    "\n",
    "### Delay Factor\n",
    "Many curricula, particularly those in science, technology engineering and math (STEM) fields, contain a set of courses that must be completed in sequential order. It is not uncommon in these programs to find prerequisite pathways consisting of seven or eight courses—they span nearly every term in any possible degree plan. The ability to successfully navigate these long pathways without delay is critical for student success and on-time graduation.\n",
    "\n",
    "We define the **delay factor** associated with a given course $v_k$ in a curriculum $c$, denoted $d_c(v_k)$, as the number of vertices in the longest path in $G_c$ that passes through $v_k$ (Slim, 2016). \n",
    "\n",
    "$G_c$ is known as the *curriculum graph*, where each vertex $v_1, . . . , v_n ∈ V$ represents a requirement (i.e., course) in a curriculum $c$. There is a directed edge $(v_i,v_j) ∈ E$ from requirement $v_i$ to $v_j$ if $v_i$ that must be satisfied prior to the satisfaction of $v_j$.\n",
    "\n",
    "\\begin{equation}\n",
    "d_c(v_k) = \\max_{i,j,k,l} \\{ \\#(v_i\\rightsquigarrow v_k \\rightsquigarrow v_j)\\}\n",
    "\\end{equation}\n",
    "\n",
    "We define the delay factor associated with an entire curriculum $c$ as:\n",
    "\n",
    "\\begin{equation}\n",
    "d(G_c)= \\sum_{v_k ∈ V} d_c(v_k)\n",
    "\\end{equation}\n",
    "\n",
    "### Blocking Factor\n",
    "Another structural factor arises when one course serves as the gateway to many other courses in the curriculum. In this case, if a student is unable to pass the gateway course, they are **blocked** from attempting many of the other courses in the curriculum.\n",
    "\n",
    "In our example, *Calculus 1* is a foundational first-term course that must be completed before taking  the other major-specific classes in subsequent terms leading to our end goal of completing *Circuits One*. It is obvious that a course which is a prerequisite for a large number of other courses in a curriculum is a highly important course in that curriculum.\n",
    "\n",
    "We will denote the situation where course $v_j$ is reachable from course $v_i$, via any prerequisite pathway, using $vi\\rightsquigarrow v_j$, and $v_i \\nrightarrow v_j$ will be used if course $v_j$ is not reachable from course $v_i$. The blocking factor associated with course $v_i$ in curriculum $G_c = (V, E)$, denoted $b_c(v_i)$, is then given by (Slim, 2016):\n",
    "\n",
    "\\begin{equation}\n",
    "b_c(v_i)= \\sum_{v_j ∈ V} I(v_i,v_j)\n",
    "\\end{equation}\n",
    "\n",
    "where $I$ is the indicator function :\n",
    "\n",
    "\\begin{equation}\n",
    "= I \\begin{cases}\n",
    "1 & if \\space \\space v_i\\rightsquigarrow v_j\\\\\n",
    "0 & if \\space \\space v_i \\nrightarrow v_j\n",
    "\\end{cases}\n",
    "\\end{equation}\n",
    "\n",
    "We define the blocking factor associated with an entire curriculum $c$ as:\n",
    "\n",
    "\\begin{equation}\n",
    "b(G_c)= \\sum_{v_i ∈ V} b_c(v_i)\n",
    "\\end{equation}\n",
    "\n",
    "### Complexity\n",
    "After computing blocking and delay factor, a unitless measure for structural complexity can be applied to any curriculum.\n",
    "\n",
    "We keep in mind that the experimental design explicitly relates this measure to the likelihood that a student can complete a curriculum.\n",
    "\n",
    "In order to achieve this overall *Complexity* metric, we simply add the blocking and delay factors of the entire curricula:\n",
    "\n",
    "\\begin{equation}\n",
    "Complexity = b(G_c) + d(G_c)\n",
    "\\end{equation}\n",
    "\n",
    "### Back To Our Example\n",
    "In our example, all these metrics can be computed using the following commands:"
   ]
  },
  {
   "cell_type": "code",
   "execution_count": 17,
   "metadata": {},
   "outputs": [
    {
     "name": "stdout",
     "output_type": "stream",
     "text": [
      "  delay factor = (8.0, [2.0, 2.0, 2.0, 2.0])\n",
      "  blocking factor = (2, [1, 0, 0, 1])\n",
      "  centrality factor = (0, [0, 0, 0, 0])\n",
      "  curricular complexity = (10.0, Number[3.0, 2.0, 2.0, 3.0])\n"
     ]
    }
   ],
   "source": [
    "    println(\"  delay factor = $(delay_factor(curric))\")\n",
    "    println(\"  blocking factor = $(blocking_factor(curric))\")\n",
    "    println(\"  curricular complexity = $(complexity(curric))\")"
   ]
  },
  {
   "cell_type": "markdown",
   "metadata": {},
   "source": [
    "## Basic Metrics\n",
    "If more masic metrics are desired such as:\n",
    "\n",
    "1. Total credit hours\n",
    "2. Avg. credits per term\n",
    "3. Number of terms\n",
    "4. Max. credits in a term\n",
    "5. Min. credit term\n",
    "6. Credit hour variance\n",
    "7. Max. credit term\n",
    "\n",
    "The following command may be run. Remember that the variable inside of () is whatever you set your degree plan to equal, in our case dp:"
   ]
  },
  {
   "cell_type": "code",
   "execution_count": 18,
   "metadata": {},
   "outputs": [
    {
     "data": {
      "text/plain": [
       "Dict{String,Any} with 8 entries:\n",
       "  \"total credit hours\"     => 12\n",
       "  \"avg. credits per term\"  => 4.0\n",
       "  \"min. credits in a term\" => 3\n",
       "  \"number of terms\"        => 3\n",
       "  \"max. credits in a term\" => 6\n",
       "  \"min. credit term\"       => 1\n",
       "  \"credit hour variance\"   => 0.333333\n",
       "  \"max. credit term\"       => 2"
      ]
     },
     "execution_count": 18,
     "metadata": {},
     "output_type": "execute_result"
    }
   ],
   "source": [
    "basic_metrics(dp)\n",
    "dp.metrics"
   ]
  },
  {
   "cell_type": "markdown",
   "metadata": {},
   "source": [
    "## Visualize\n",
    "One of the more powerful features of the curricular analytics toolbox is the ability to visualize your created degree plan. This high quality visualization can be used by administrators to create powerful visual representations of their curricula and easily compare impactful changes he or she might make.\n",
    "\n",
    "In order to visualize our example curricula, use the following command. As in the basic metrics section, remember that the variable inside of () is whatever you set your degree plan to equal, in our case dp:"
   ]
  },
  {
   "cell_type": "code",
   "execution_count": 22,
   "metadata": {},
   "outputs": [
    {
     "data": {
      "text/plain": [
       "Blink.AtomShell.Window(3, Blink.AtomShell.Electron(Process(`\u001b[4m/Users/wgthompson/.julia/packages/Blink/1QOOi/deps/Julia.app/Contents/MacOS/Julia\u001b[24m \u001b[4m/Users/wgthompson/.julia/packages/Blink/1QOOi/src/AtomShell/main.js\u001b[24m \u001b[4mport\u001b[24m \u001b[4m5381\u001b[24m`, ProcessRunning), Sockets.TCPSocket(RawFD(0x00000034) active, 0 bytes waiting), Dict{String,Any}(\"callback\"=>##1#2())), Blink.Page(3, WebSocket(server, \u001b[32mCONNECTED\u001b[39m), Dict{String,Any}(\"webio\"=>##101#102{BlinkConnection}(BlinkConnection(Page(#= circular reference @-4 =#))),\"callback\"=>##1#2()), Distributed.Future(1, 1, 3, Some(true))))"
      ]
     },
     "execution_count": 22,
     "metadata": {},
     "output_type": "execute_result"
    }
   ],
   "source": [
    "visualize(dp)"
   ]
  },
  {
   "cell_type": "markdown",
   "metadata": {},
   "source": [
    "## Putting It All Together\n",
    "\n",
    "The following is the full code necessary to analyze a second example curricula from *Calculus One* to *Circuits One*. Once run, you will be able to see how slight changes impact both the blocking and delay factors of the degree plan. "
   ]
  },
  {
   "cell_type": "code",
   "execution_count": 23,
   "metadata": {},
   "outputs": [
    {
     "name": "stdout",
     "output_type": "stream",
     "text": [
      "Curriculum Example Curricula C2 is valid\n",
      "  delay factor = (12.0, [3.0, 3.0, 3.0, 3.0])\n",
      "  blocking factor = (5, [2, 0, 1, 2])\n",
      "  centrality factor = (6, [0, 0, 6, 0])\n",
      "  curricular complexity = (17.0, Number[5.0, 3.0, 4.0, 5.0])\n"
     ]
    },
    {
     "data": {
      "text/plain": [
       "Blink.AtomShell.Window(4, Blink.AtomShell.Electron(Process(`\u001b[4m/Users/wgthompson/.julia/packages/Blink/1QOOi/deps/Julia.app/Contents/MacOS/Julia\u001b[24m \u001b[4m/Users/wgthompson/.julia/packages/Blink/1QOOi/src/AtomShell/main.js\u001b[24m \u001b[4mport\u001b[24m \u001b[4m5381\u001b[24m`, ProcessRunning), Sockets.TCPSocket(RawFD(0x00000034) active, 0 bytes waiting), Dict{String,Any}(\"callback\"=>##1#2())), Blink.Page(4, WebSocket(server, \u001b[32mCONNECTED\u001b[39m), Dict{String,Any}(\"webio\"=>##101#102{BlinkConnection}(BlinkConnection(Page(#= circular reference @-4 =#))),\"callback\"=>##1#2()), Distributed.Future(1, 1, 4, Some(true))))"
      ]
     },
     "execution_count": 23,
     "metadata": {},
     "output_type": "execute_result"
    }
   ],
   "source": [
    "## Curriculum assoicated with curricula c2, page 9, Heileman, G. L., Slim, A., Hickman, M.,  and Abdallah, C. T. (2018). \n",
    "##Curricular Analytics: A Framework for Quantifying the Impact of Curricular Reforms and Pedagogical Innovations \n",
    "##https://arxiv.org/pdf/1811.09676.pdf\n",
    "\n",
    "using CurricularAnalytics\n",
    "\n",
    "# create the courses\n",
    "c = Array{Course}(undef, 4)\n",
    "\n",
    "# term 1\n",
    "c[1] = Course(\"Calculus 1\", 3, prefix = \"MATH \", num = \"1011\")\n",
    "c[2] = Course(\"Physics I: Mechanics & Heat\", 3, prefix = \"PHYS\", num = \"1112\")\n",
    "\n",
    "# term 2\n",
    "c[3] = Course(\"Multivariable Calc. for Engineers\", 3, prefix = \"MATH\", num = \"1920\")\n",
    "\n",
    "# term 3\n",
    "c[4] = Course(\"Circuits 1\", 3, prefix = \"EE\", num = \"2200\")\n",
    "\n",
    "# term 2\n",
    "add_requisite!(c[1],c[3],pre)\n",
    "add_requisite!(c[2],c[3],pre)\n",
    "\n",
    "# term 3\n",
    "add_requisite!(c[3],c[4],pre)\n",
    "\n",
    "curric = Curriculum(\"Example Curricula C2\", c)\n",
    "\n",
    "errors = IOBuffer()\n",
    "if isvalid_curriculum(curric, errors)\n",
    "    println(\"Curriculum $(curric.name) is valid\")\n",
    "    println(\"  delay factor = $(delay_factor(curric))\")\n",
    "    println(\"  blocking factor = $(blocking_factor(curric))\")\n",
    "    println(\"  centrality factor = $(centrality(curric))\")\n",
    "    println(\"  curricular complexity = $(complexity(curric))\")\n",
    "else\n",
    "    println(\"Curriculum $(curric.name) is not valid:\")\n",
    "    print(String(take!(errors)))\n",
    "end\n",
    "\n",
    "terms = Array{Term}(undef, 3)\n",
    "terms[1] = Term([c[1],c[2]])\n",
    "terms[2] = Term([c[3]])\n",
    "terms[3] = Term([c[4]])\n",
    "\n",
    "\n",
    "dp = DegreePlan(\"Example Curricula c2\", curric, terms)\n",
    "\n",
    "basic_metrics(dp)\n",
    "dp.metrics\n",
    "visualize(dp)"
   ]
  },
  {
   "cell_type": "markdown",
   "metadata": {},
   "source": [
    "# Conclusion \n",
    "By treating a curriculum as a formal system that exists within the larger university ecosystem, we have highlighted the fact that it can be directly and rigorously analyzed. An analytical approach to the study of curricula supports not only the ability to make predictions about how curricular changes will effect student progress, but also predictions around the likely impact of particular student success interventions on curricular progression.\n",
    "\n",
    "We hope that through the use of our Curricular Analytics toolbox administrators in higher education can make changes to their curricula that ultimately improve student success outcomes. "
   ]
  },
  {
   "cell_type": "markdown",
   "metadata": {},
   "source": [
    "# References\n",
    "\n",
    "Heileman, G. L., Abdallah, C.T., Slim, A., and Hickman, M. (2018). Curricular analytics: A framework for quantifying the impact of curricular reforms and pedagogical innovations. www.arXiv.org, arXiv:1811.09676 [cs.CY].\n",
    "\n",
    "Slim, A. (2016). Curricular Analytics in Higher Education. PhD thesis, University of New Mexico,\n",
    "Albuquerque, NM."
   ]
  },
  {
   "cell_type": "code",
   "execution_count": null,
   "metadata": {},
   "outputs": [],
   "source": []
  }
 ],
 "metadata": {
  "kernelspec": {
   "display_name": "Julia 1.0.1",
   "language": "julia",
   "name": "julia-1.0"
  },
  "language_info": {
   "file_extension": ".jl",
   "mimetype": "application/julia",
   "name": "julia",
   "version": "1.0.1"
  }
 },
 "nbformat": 4,
 "nbformat_minor": 2
}
