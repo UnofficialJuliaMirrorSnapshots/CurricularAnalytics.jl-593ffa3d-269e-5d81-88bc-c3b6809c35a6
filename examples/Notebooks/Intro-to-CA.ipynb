{
 "cells": [
  {
   "cell_type": "markdown",
   "metadata": {},
   "source": [
    "# Introduction to Curricular Analytics"
   ]
  },
  {
   "cell_type": "markdown",
   "metadata": {},
   "source": [
    "This notebook provides a basic introducton to curricular analytics, and a brief tutorial on how to use \n",
    "the CurricularAnalytics.jl toolbox to analyze curricula.\n",
    "\n",
    "For a more detailed description of the curricular analytics concepts we have developed, please see:\n",
    "\n",
    "To install the CurricularAnalytics.jl toolbox, type ] in the Julia REPL to enter Pkg mode, and then type:"
   ]
  },
  {
   "cell_type": "markdown",
   "metadata": {},
   "source": [
    "```julia-repl\n",
    "(v1.0) pkg> add CurricularAnalytics\n",
    "```"
   ]
  },
  {
   "cell_type": "markdown",
   "metadata": {},
   "source": [
    "## Curricular Analyatics Framework \n",
    "The challenge associated with studying the impact of curricula on student progression involves finding a useful decomposition of the various curriculum-related components that influence this progress. We demonstrate the usefulness of modeling the overall complexity of a curriculum as a function of two main components, (1) the manner in which courses in the curriculum are taught and supported, and (2) the manner in which the curriculum is structured. We refer to the former as the *instructional complexity* of the curriculum, and to the latter as the *structural complexity* of the curriculum. Each of these main components are functions of numerous other curriculum-related factors. \n"
   ]
  },
  {
   "cell_type": "markdown",
   "metadata": {},
   "source": [
    "### Structural Complexity"
   ]
  },
  {
   "cell_type": "markdown",
   "metadata": {},
   "source": [
    "The structural complexity of a "
   ]
  },
  {
   "cell_type": "code",
   "execution_count": 7,
   "metadata": {},
   "outputs": [
    {
     "data": {
      "text/html": [
       "<div class='display:none'></div><unsafe-script style='display:none'>\n",
       "WebIO.mount(this.previousSibling,{&quot;props&quot;:{},&quot;nodeType&quot;:&quot;Scope&quot;,&quot;type&quot;:&quot;node&quot;,&quot;instanceArgs&quot;:{&quot;imports&quot;:{&quot;data&quot;:[],&quot;type&quot;:&quot;async_block&quot;},&quot;id&quot;:&quot;scope-50f9b821-7605-4f3b-9e5e-7c84ec26211f&quot;,&quot;handlers&quot;:{},&quot;systemjs_options&quot;:null,&quot;observables&quot;:{&quot;curriculum-data&quot;:{&quot;sync&quot;:true,&quot;id&quot;:&quot;ob_02&quot;,&quot;value&quot;:{&quot;options&quot;:{&quot;hideTerms&quot;:true,&quot;edit&quot;:false},&quot;curriculum&quot;:{&quot;name&quot;:&quot;Example 1&quot;,&quot;dp_name&quot;:&quot;&quot;,&quot;curriculum_terms&quot;:[{&quot;name&quot;:&quot;Term 1&quot;,&quot;curriculum_items&quot;:[{&quot;curriculum_requisites&quot;:[],&quot;name&quot;:&quot; &quot;,&quot;metrics&quot;:{},&quot;nameSub&quot;:&quot;C1&quot;,&quot;id&quot;:617571153,&quot;credits&quot;:3,&quot;nameCanonical&quot;:&quot;&quot;}],&quot;id&quot;:1},{&quot;name&quot;:&quot;Term 2&quot;,&quot;curriculum_items&quot;:[{&quot;curriculum_requisites&quot;:[{&quot;source_id&quot;:617571153,&quot;target_id&quot;:4020396113,&quot;type&quot;:&quot;prereq&quot;}],&quot;name&quot;:&quot; &quot;,&quot;metrics&quot;:{},&quot;nameSub&quot;:&quot;C2&quot;,&quot;id&quot;:4020396113,&quot;credits&quot;:3,&quot;nameCanonical&quot;:&quot;&quot;}],&quot;id&quot;:2},{&quot;name&quot;:&quot;Term 3&quot;,&quot;curriculum_items&quot;:[{&quot;curriculum_requisites&quot;:[{&quot;source_id&quot;:4020396113,&quot;target_id&quot;:1286964394,&quot;type&quot;:&quot;prereq&quot;}],&quot;name&quot;:&quot; &quot;,&quot;metrics&quot;:{},&quot;nameSub&quot;:&quot;C4&quot;,&quot;id&quot;:1286964394,&quot;credits&quot;:3,&quot;nameCanonical&quot;:&quot;&quot;},{&quot;curriculum_requisites&quot;:[{&quot;source_id&quot;:617571153,&quot;target_id&quot;:3304736195,&quot;type&quot;:&quot;prereq&quot;}],&quot;name&quot;:&quot; &quot;,&quot;metrics&quot;:{},&quot;nameSub&quot;:&quot;C3&quot;,&quot;id&quot;:3304736195,&quot;credits&quot;:3,&quot;nameCanonical&quot;:&quot;&quot;}],&quot;id&quot;:3}],&quot;institution&quot;:&quot;&quot;}}}}},&quot;children&quot;:[{&quot;props&quot;:{&quot;src&quot;:&quot;http://localhost:8156&quot;,&quot;id&quot;:&quot;curriculum&quot;,&quot;events&quot;:{&quot;load&quot;:(function (){this.contentWindow.postMessage({&quot;options&quot;:{&quot;hideTerms&quot;:true,&quot;edit&quot;:false},&quot;curriculum&quot;:{&quot;name&quot;:&quot;Example 1&quot;,&quot;dp_name&quot;:&quot;&quot;,&quot;curriculum_terms&quot;:[{&quot;name&quot;:&quot;Term 1&quot;,&quot;curriculum_items&quot;:[{&quot;curriculum_requisites&quot;:[],&quot;name&quot;:&quot; &quot;,&quot;metrics&quot;:{},&quot;nameSub&quot;:&quot;C1&quot;,&quot;id&quot;:617571153,&quot;credits&quot;:3,&quot;nameCanonical&quot;:&quot;&quot;}],&quot;id&quot;:1},{&quot;name&quot;:&quot;Term 2&quot;,&quot;curriculum_items&quot;:[{&quot;curriculum_requisites&quot;:[{&quot;source_id&quot;:617571153,&quot;target_id&quot;:4020396113,&quot;type&quot;:&quot;prereq&quot;}],&quot;name&quot;:&quot; &quot;,&quot;metrics&quot;:{},&quot;nameSub&quot;:&quot;C2&quot;,&quot;id&quot;:4020396113,&quot;credits&quot;:3,&quot;nameCanonical&quot;:&quot;&quot;}],&quot;id&quot;:2},{&quot;name&quot;:&quot;Term 3&quot;,&quot;curriculum_items&quot;:[{&quot;curriculum_requisites&quot;:[{&quot;source_id&quot;:4020396113,&quot;target_id&quot;:1286964394,&quot;type&quot;:&quot;prereq&quot;}],&quot;name&quot;:&quot; &quot;,&quot;metrics&quot;:{},&quot;nameSub&quot;:&quot;C4&quot;,&quot;id&quot;:1286964394,&quot;credits&quot;:3,&quot;nameCanonical&quot;:&quot;&quot;},{&quot;curriculum_requisites&quot;:[{&quot;source_id&quot;:617571153,&quot;target_id&quot;:3304736195,&quot;type&quot;:&quot;prereq&quot;}],&quot;name&quot;:&quot; &quot;,&quot;metrics&quot;:{},&quot;nameSub&quot;:&quot;C3&quot;,&quot;id&quot;:3304736195,&quot;credits&quot;:3,&quot;nameCanonical&quot;:&quot;&quot;}],&quot;id&quot;:3}],&quot;institution&quot;:&quot;&quot;}},&quot;*&quot;); window.removeEventListener(&quot;message&quot;,window.messageReceived); window.messageReceived=(function (event){return (event.data.curriculum!==undefined) ? (WebIO.setval({&quot;name&quot;:&quot;curriculum-data&quot;,&quot;scope&quot;:&quot;scope-50f9b821-7605-4f3b-9e5e-7c84ec26211f&quot;,&quot;id&quot;:&quot;ob_02&quot;,&quot;type&quot;:&quot;observable&quot;},event.data.curriculum)) : undefined}); return window.addEventListener(&quot;message&quot;,window.messageReceived)})},&quot;style&quot;:{&quot;padding&quot;:&quot;0&quot;,&quot;height&quot;:&quot;100vh&quot;,&quot;margin&quot;:&quot;0&quot;,&quot;border&quot;:&quot;none&quot;,&quot;width&quot;:&quot;100%&quot;}},&quot;nodeType&quot;:&quot;DOM&quot;,&quot;type&quot;:&quot;node&quot;,&quot;instanceArgs&quot;:{&quot;namespace&quot;:&quot;html&quot;,&quot;tag&quot;:&quot;iframe&quot;},&quot;children&quot;:[&quot;&quot;]}]})</unsafe-script>"
      ],
      "text/plain": [
       "WebIO.Scope(\"scope-50f9b821-7605-4f3b-9e5e-7c84ec26211f\", WebIO.Node{WebIO.DOM}(WebIO.DOM(:html, :iframe), Any[\"\"], Dict{Symbol,Any}(:src=>\"http://localhost:8156\",:id=>\"curriculum\",:events=>Dict(:load=>JSString(\"(function (){this.contentWindow.postMessage({\\\"options\\\":{\\\"hideTerms\\\":true,\\\"edit\\\":false},\\\"curriculum\\\":{\\\"name\\\":\\\"Example 1\\\",\\\"dp_name\\\":\\\"\\\",\\\"curriculum_terms\\\":[{\\\"name\\\":\\\"Term 1\\\",\\\"curriculum_items\\\":[{\\\"curriculum_requisites\\\":[],\\\"name\\\":\\\" \\\",\\\"metrics\\\":{},\\\"nameSub\\\":\\\"C1\\\",\\\"id\\\":617571153,\\\"credits\\\":3,\\\"nameCanonical\\\":\\\"\\\"}],\\\"id\\\":1},{\\\"name\\\":\\\"Term 2\\\",\\\"curriculum_items\\\":[{\\\"curriculum_requisites\\\":[{\\\"source_id\\\":617571153,\\\"target_id\\\":4020396113,\\\"type\\\":\\\"prereq\\\"}],\\\"name\\\":\\\" \\\",\\\"metrics\\\":{},\\\"nameSub\\\":\\\"C2\\\",\\\"id\\\":4020396113,\\\"credits\\\":3,\\\"nameCanonical\\\":\\\"\\\"}],\\\"id\\\":2},{\\\"name\\\":\\\"Term 3\\\",\\\"curriculum_items\\\":[{\\\"curriculum_requisites\\\":[{\\\"source_id\\\":4020396113,\\\"target_id\\\":1286964394,\\\"type\\\":\\\"prereq\\\"}],\\\"name\\\":\\\" \\\",\\\"metrics\\\":{},\\\"nameSub\\\":\\\"C4\\\",\\\"id\\\":1286964394,\\\"credits\\\":3,\\\"nameCanonical\\\":\\\"\\\"},{\\\"curriculum_requisites\\\":[{\\\"source_id\\\":617571153,\\\"target_id\\\":3304736195,\\\"type\\\":\\\"prereq\\\"}],\\\"name\\\":\\\" \\\",\\\"metrics\\\":{},\\\"nameSub\\\":\\\"C3\\\",\\\"id\\\":3304736195,\\\"credits\\\":3,\\\"nameCanonical\\\":\\\"\\\"}],\\\"id\\\":3}],\\\"institution\\\":\\\"\\\"}},\\\"*\\\"); window.removeEventListener(\\\"message\\\",window.messageReceived); window.messageReceived=(function (event){return (event.data.curriculum!==undefined) ? (WebIO.setval({\\\"name\\\":\\\"curriculum-data\\\",\\\"scope\\\":\\\"scope-50f9b821-7605-4f3b-9e5e-7c84ec26211f\\\",\\\"id\\\":\\\"ob_02\\\",\\\"type\\\":\\\"observable\\\"},event.data.curriculum)) : undefined}); return window.addEventListener(\\\"message\\\",window.messageReceived)})\")),:style=>Dict(:padding=>\"0\",:height=>\"100vh\",:margin=>\"0\",:border=>\"none\",:width=>\"100%\")), 1), Dict{String,Tuple{Observables.AbstractObservable,Union{Nothing, Bool}}}(\"curriculum-data\"=>(Observable{Dict{String,Any}} with 1 listeners. Value:\n",
       "Dict{String,Any}(\"options\"=>Dict{String,Any}(\"hideTerms\"=>true,\"edit\"=>false),\"curriculum\"=>Dict{String,Any}(\"name\"=>\"Example 1\",\"dp_name\"=>\"\",\"curriculum_terms\"=>Dict{String,Any}[Dict(\"name\"=>\"Term 1\",\"curriculum_items\"=>Dict{String,Any}[Dict(\"curriculum_requisites\"=>Dict{String,Any}[],\"name\"=>\" \",\"metrics\"=>Dict{String,Any}(),\"nameSub\"=>\"C1\",\"id\"=>617571153,\"credits\"=>3,\"nameCanonical\"=>\"\")],\"id\"=>1), Dict(\"name\"=>\"Term 2\",\"curriculum_items\"=>Dict{String,Any}[Dict(\"curriculum_requisites\"=>Dict{String,Any}[Dict(\"source_id\"=>617571153,\"target_id\"=>4020396113,\"type\"=>\"prereq\")],\"name\"=>\" \",\"metrics\"=>Dict{String,Any}(),\"nameSub\"=>\"C2\",\"id\"=>4020396113,\"credits\"=>3,\"nameCanonical\"=>\"\")],\"id\"=>2), Dict(\"name\"=>\"Term 3\",\"curriculum_items\"=>Dict{String,Any}[Dict(\"curriculum_requisites\"=>Dict{String,Any}[Dict(\"source_id\"=>4020396113,\"target_id\"=>1286964394,\"type\"=>\"prereq\")],\"name\"=>\" \",\"metrics\"=>Dict{String,Any}(),\"nameSub\"=>\"C4\",\"id\"=>1286964394,\"credits\"=>3,\"nameCanonical\"=>\"\"), Dict(\"curriculum_requisites\"=>Dict{String,Any}[Dict(\"source_id\"=>617571153,\"target_id\"=>3304736195,\"type\"=>\"prereq\")],\"name\"=>\" \",\"metrics\"=>Dict{String,Any}(),\"nameSub\"=>\"C3\",\"id\"=>3304736195,\"credits\"=>3,\"nameCanonical\"=>\"\")],\"id\"=>3)],\"institution\"=>\"\")), nothing)), Set(String[]), nothing, Any[], Dict{Any,Any}(), WebIO.ConnectionPool(Channel{Any}(sz_max:9223372036854775807,sz_curr:1), Set(WebIO.AbstractConnection[]), Channel{WebIO.AbstractConnection}(sz_max:32,sz_curr:0)))"
      ]
     },
     "execution_count": 7,
     "metadata": {},
     "output_type": "execute_result"
    }
   ],
   "source": [
    "using CurricularAnalytics\n",
    "c1 = Course(\"C1\", 3)\n",
    "c2 = Course(\"C2\", 3)\n",
    "c3 = Course(\"C3\", 3)\n",
    "c4 = Course(\"C4\", 3)\n",
    "add_requisite!(c1, c2, pre)\n",
    "add_requisite!(c2, c4, pre)\n",
    "add_requisite!(c1, c3, pre)\n",
    "curric1 = Curriculum(\"Example 1\", [c1,c2,c3,c4])\n",
    "visualize(curric1; notebook=true)"
   ]
  },
  {
   "cell_type": "code",
   "execution_count": 8,
   "metadata": {},
   "outputs": [
    {
     "data": {
      "text/html": [
       "<div class='display:none'></div><unsafe-script style='display:none'>\n",
       "WebIO.mount(this.previousSibling,{&quot;props&quot;:{},&quot;nodeType&quot;:&quot;Scope&quot;,&quot;type&quot;:&quot;node&quot;,&quot;instanceArgs&quot;:{&quot;imports&quot;:{&quot;data&quot;:[],&quot;type&quot;:&quot;async_block&quot;},&quot;id&quot;:&quot;scope-c8617003-c997-4a78-90a4-dc72c64186f4&quot;,&quot;handlers&quot;:{},&quot;systemjs_options&quot;:null,&quot;observables&quot;:{&quot;curriculum-data&quot;:{&quot;sync&quot;:true,&quot;id&quot;:&quot;ob_03&quot;,&quot;value&quot;:{&quot;options&quot;:{&quot;hideTerms&quot;:true,&quot;edit&quot;:false},&quot;curriculum&quot;:{&quot;name&quot;:&quot;Example 2&quot;,&quot;dp_name&quot;:&quot;&quot;,&quot;curriculum_terms&quot;:[{&quot;name&quot;:&quot;Term 1&quot;,&quot;curriculum_items&quot;:[{&quot;curriculum_requisites&quot;:[],&quot;name&quot;:&quot; &quot;,&quot;metrics&quot;:{},&quot;nameSub&quot;:&quot;C1&quot;,&quot;id&quot;:617571153,&quot;credits&quot;:3,&quot;nameCanonical&quot;:&quot;&quot;}],&quot;id&quot;:1},{&quot;name&quot;:&quot;Term 2&quot;,&quot;curriculum_items&quot;:[{&quot;curriculum_requisites&quot;:[],&quot;name&quot;:&quot; &quot;,&quot;metrics&quot;:{},&quot;nameSub&quot;:&quot;C2&quot;,&quot;id&quot;:4020396113,&quot;credits&quot;:3,&quot;nameCanonical&quot;:&quot;&quot;}],&quot;id&quot;:2},{&quot;name&quot;:&quot;Term 3&quot;,&quot;curriculum_items&quot;:[{&quot;curriculum_requisites&quot;:[{&quot;source_id&quot;:617571153,&quot;target_id&quot;:3304736195,&quot;type&quot;:&quot;prereq&quot;},{&quot;source_id&quot;:4020396113,&quot;target_id&quot;:3304736195,&quot;type&quot;:&quot;prereq&quot;}],&quot;name&quot;:&quot; &quot;,&quot;metrics&quot;:{},&quot;nameSub&quot;:&quot;C3&quot;,&quot;id&quot;:3304736195,&quot;credits&quot;:3,&quot;nameCanonical&quot;:&quot;&quot;}],&quot;id&quot;:3},{&quot;name&quot;:&quot;Term 4&quot;,&quot;curriculum_items&quot;:[{&quot;curriculum_requisites&quot;:[{&quot;source_id&quot;:3304736195,&quot;target_id&quot;:1286964394,&quot;type&quot;:&quot;prereq&quot;}],&quot;name&quot;:&quot; &quot;,&quot;metrics&quot;:{},&quot;nameSub&quot;:&quot;C4&quot;,&quot;id&quot;:1286964394,&quot;credits&quot;:3,&quot;nameCanonical&quot;:&quot;&quot;}],&quot;id&quot;:4}],&quot;institution&quot;:&quot;&quot;}}}}},&quot;children&quot;:[{&quot;props&quot;:{&quot;src&quot;:&quot;http://localhost:8156&quot;,&quot;id&quot;:&quot;curriculum&quot;,&quot;events&quot;:{&quot;load&quot;:(function (){this.contentWindow.postMessage({&quot;options&quot;:{&quot;hideTerms&quot;:true,&quot;edit&quot;:false},&quot;curriculum&quot;:{&quot;name&quot;:&quot;Example 2&quot;,&quot;dp_name&quot;:&quot;&quot;,&quot;curriculum_terms&quot;:[{&quot;name&quot;:&quot;Term 1&quot;,&quot;curriculum_items&quot;:[{&quot;curriculum_requisites&quot;:[],&quot;name&quot;:&quot; &quot;,&quot;metrics&quot;:{},&quot;nameSub&quot;:&quot;C1&quot;,&quot;id&quot;:617571153,&quot;credits&quot;:3,&quot;nameCanonical&quot;:&quot;&quot;}],&quot;id&quot;:1},{&quot;name&quot;:&quot;Term 2&quot;,&quot;curriculum_items&quot;:[{&quot;curriculum_requisites&quot;:[],&quot;name&quot;:&quot; &quot;,&quot;metrics&quot;:{},&quot;nameSub&quot;:&quot;C2&quot;,&quot;id&quot;:4020396113,&quot;credits&quot;:3,&quot;nameCanonical&quot;:&quot;&quot;}],&quot;id&quot;:2},{&quot;name&quot;:&quot;Term 3&quot;,&quot;curriculum_items&quot;:[{&quot;curriculum_requisites&quot;:[{&quot;source_id&quot;:617571153,&quot;target_id&quot;:3304736195,&quot;type&quot;:&quot;prereq&quot;},{&quot;source_id&quot;:4020396113,&quot;target_id&quot;:3304736195,&quot;type&quot;:&quot;prereq&quot;}],&quot;name&quot;:&quot; &quot;,&quot;metrics&quot;:{},&quot;nameSub&quot;:&quot;C3&quot;,&quot;id&quot;:3304736195,&quot;credits&quot;:3,&quot;nameCanonical&quot;:&quot;&quot;}],&quot;id&quot;:3},{&quot;name&quot;:&quot;Term 4&quot;,&quot;curriculum_items&quot;:[{&quot;curriculum_requisites&quot;:[{&quot;source_id&quot;:3304736195,&quot;target_id&quot;:1286964394,&quot;type&quot;:&quot;prereq&quot;}],&quot;name&quot;:&quot; &quot;,&quot;metrics&quot;:{},&quot;nameSub&quot;:&quot;C4&quot;,&quot;id&quot;:1286964394,&quot;credits&quot;:3,&quot;nameCanonical&quot;:&quot;&quot;}],&quot;id&quot;:4}],&quot;institution&quot;:&quot;&quot;}},&quot;*&quot;); window.removeEventListener(&quot;message&quot;,window.messageReceived); window.messageReceived=(function (event){return (event.data.curriculum!==undefined) ? (WebIO.setval({&quot;name&quot;:&quot;curriculum-data&quot;,&quot;scope&quot;:&quot;scope-c8617003-c997-4a78-90a4-dc72c64186f4&quot;,&quot;id&quot;:&quot;ob_03&quot;,&quot;type&quot;:&quot;observable&quot;},event.data.curriculum)) : undefined}); return window.addEventListener(&quot;message&quot;,window.messageReceived)})},&quot;style&quot;:{&quot;padding&quot;:&quot;0&quot;,&quot;height&quot;:&quot;100vh&quot;,&quot;margin&quot;:&quot;0&quot;,&quot;border&quot;:&quot;none&quot;,&quot;width&quot;:&quot;100%&quot;}},&quot;nodeType&quot;:&quot;DOM&quot;,&quot;type&quot;:&quot;node&quot;,&quot;instanceArgs&quot;:{&quot;namespace&quot;:&quot;html&quot;,&quot;tag&quot;:&quot;iframe&quot;},&quot;children&quot;:[&quot;&quot;]}]})</unsafe-script>"
      ],
      "text/plain": [
       "WebIO.Scope(\"scope-c8617003-c997-4a78-90a4-dc72c64186f4\", WebIO.Node{WebIO.DOM}(WebIO.DOM(:html, :iframe), Any[\"\"], Dict{Symbol,Any}(:src=>\"http://localhost:8156\",:id=>\"curriculum\",:events=>Dict(:load=>JSString(\"(function (){this.contentWindow.postMessage({\\\"options\\\":{\\\"hideTerms\\\":true,\\\"edit\\\":false},\\\"curriculum\\\":{\\\"name\\\":\\\"Example 2\\\",\\\"dp_name\\\":\\\"\\\",\\\"curriculum_terms\\\":[{\\\"name\\\":\\\"Term 1\\\",\\\"curriculum_items\\\":[{\\\"curriculum_requisites\\\":[],\\\"name\\\":\\\" \\\",\\\"metrics\\\":{},\\\"nameSub\\\":\\\"C1\\\",\\\"id\\\":617571153,\\\"credits\\\":3,\\\"nameCanonical\\\":\\\"\\\"}],\\\"id\\\":1},{\\\"name\\\":\\\"Term 2\\\",\\\"curriculum_items\\\":[{\\\"curriculum_requisites\\\":[],\\\"name\\\":\\\" \\\",\\\"metrics\\\":{},\\\"nameSub\\\":\\\"C2\\\",\\\"id\\\":4020396113,\\\"credits\\\":3,\\\"nameCanonical\\\":\\\"\\\"}],\\\"id\\\":2},{\\\"name\\\":\\\"Term 3\\\",\\\"curriculum_items\\\":[{\\\"curriculum_requisites\\\":[{\\\"source_id\\\":617571153,\\\"target_id\\\":3304736195,\\\"type\\\":\\\"prereq\\\"},{\\\"source_id\\\":4020396113,\\\"target_id\\\":3304736195,\\\"type\\\":\\\"prereq\\\"}],\\\"name\\\":\\\" \\\",\\\"metrics\\\":{},\\\"nameSub\\\":\\\"C3\\\",\\\"id\\\":3304736195,\\\"credits\\\":3,\\\"nameCanonical\\\":\\\"\\\"}],\\\"id\\\":3},{\\\"name\\\":\\\"Term 4\\\",\\\"curriculum_items\\\":[{\\\"curriculum_requisites\\\":[{\\\"source_id\\\":3304736195,\\\"target_id\\\":1286964394,\\\"type\\\":\\\"prereq\\\"}],\\\"name\\\":\\\" \\\",\\\"metrics\\\":{},\\\"nameSub\\\":\\\"C4\\\",\\\"id\\\":1286964394,\\\"credits\\\":3,\\\"nameCanonical\\\":\\\"\\\"}],\\\"id\\\":4}],\\\"institution\\\":\\\"\\\"}},\\\"*\\\"); window.removeEventListener(\\\"message\\\",window.messageReceived); window.messageReceived=(function (event){return (event.data.curriculum!==undefined) ? (WebIO.setval({\\\"name\\\":\\\"curriculum-data\\\",\\\"scope\\\":\\\"scope-c8617003-c997-4a78-90a4-dc72c64186f4\\\",\\\"id\\\":\\\"ob_03\\\",\\\"type\\\":\\\"observable\\\"},event.data.curriculum)) : undefined}); return window.addEventListener(\\\"message\\\",window.messageReceived)})\")),:style=>Dict(:padding=>\"0\",:height=>\"100vh\",:margin=>\"0\",:border=>\"none\",:width=>\"100%\")), 1), Dict{String,Tuple{Observables.AbstractObservable,Union{Nothing, Bool}}}(\"curriculum-data\"=>(Observable{Dict{String,Any}} with 1 listeners. Value:\n",
       "Dict{String,Any}(\"options\"=>Dict{String,Any}(\"hideTerms\"=>true,\"edit\"=>false),\"curriculum\"=>Dict{String,Any}(\"name\"=>\"Example 2\",\"dp_name\"=>\"\",\"curriculum_terms\"=>Dict{String,Any}[Dict(\"name\"=>\"Term 1\",\"curriculum_items\"=>Dict{String,Any}[Dict(\"curriculum_requisites\"=>Dict{String,Any}[],\"name\"=>\" \",\"metrics\"=>Dict{String,Any}(),\"nameSub\"=>\"C1\",\"id\"=>617571153,\"credits\"=>3,\"nameCanonical\"=>\"\")],\"id\"=>1), Dict(\"name\"=>\"Term 2\",\"curriculum_items\"=>Dict{String,Any}[Dict(\"curriculum_requisites\"=>Dict{String,Any}[],\"name\"=>\" \",\"metrics\"=>Dict{String,Any}(),\"nameSub\"=>\"C2\",\"id\"=>4020396113,\"credits\"=>3,\"nameCanonical\"=>\"\")],\"id\"=>2), Dict(\"name\"=>\"Term 3\",\"curriculum_items\"=>Dict{String,Any}[Dict(\"curriculum_requisites\"=>Dict{String,Any}[Dict(\"source_id\"=>617571153,\"target_id\"=>3304736195,\"type\"=>\"prereq\"), Dict(\"source_id\"=>4020396113,\"target_id\"=>3304736195,\"type\"=>\"prereq\")],\"name\"=>\" \",\"metrics\"=>Dict{String,Any}(),\"nameSub\"=>\"C3\",\"id\"=>3304736195,\"credits\"=>3,\"nameCanonical\"=>\"\")],\"id\"=>3), Dict(\"name\"=>\"Term 4\",\"curriculum_items\"=>Dict{String,Any}[Dict(\"curriculum_requisites\"=>Dict{String,Any}[Dict(\"source_id\"=>3304736195,\"target_id\"=>1286964394,\"type\"=>\"prereq\")],\"name\"=>\" \",\"metrics\"=>Dict{String,Any}(),\"nameSub\"=>\"C4\",\"id\"=>1286964394,\"credits\"=>3,\"nameCanonical\"=>\"\")],\"id\"=>4)],\"institution\"=>\"\")), nothing)), Set(String[]), nothing, Any[], Dict{Any,Any}(), WebIO.ConnectionPool(Channel{Any}(sz_max:9223372036854775807,sz_curr:1), Set(WebIO.AbstractConnection[]), Channel{WebIO.AbstractConnection}(sz_max:32,sz_curr:0)))"
      ]
     },
     "execution_count": 8,
     "metadata": {},
     "output_type": "execute_result"
    }
   ],
   "source": [
    "using CurricularAnalytics\n",
    "c1 = Course(\"C1\", 3)\n",
    "c2 = Course(\"C2\", 3)\n",
    "c3 = Course(\"C3\", 3)\n",
    "c4 = Course(\"C4\", 3)\n",
    "add_requisite!(c1, c3, pre)\n",
    "add_requisite!(c2, c3, pre)\n",
    "add_requisite!(c3, c4, pre)\n",
    "curric2 = Curriculum(\"Example 2\", [c1,c2,c3,c4])\n",
    "visualize(curric2; notebook=true)"
   ]
  },
  {
   "cell_type": "markdown",
   "metadata": {},
   "source": [
    "## Visualizing a Curriculum\n",
    "Let's now visualize the curricular design pattern that was stored in the degree plan object.  To do this, using the following command.  Note that because we'd like to display the design pattern within the Jupyter notebook, you need to pass in the flag `notebook=true`.  By hovering over courses in the visualization, you can see the various complexity metrics that have been computed."
   ]
  },
  {
   "cell_type": "markdown",
   "metadata": {},
   "source": [
    "## Storing a Curriculum\n",
    "You can store your curriculum and degree plans as a CSV file, and then using the CurricularAnalytics.jl toolbox to analyze them. Below is an example of what the CSV file looks like. In this case, we're analyzing a portion of a curriculum that we refer to as a **curriculur design pattern**. \n",
    "![CSV-example.png](attachment:CSV-example.png)"
   ]
  },
  {
   "cell_type": "markdown",
   "metadata": {},
   "source": [
    "## Reading a Curriculum from a File and Creating a Curriculum Object\n",
    "The following command can be used to read a curriculum, analyze its complexity and then visualize it.\n",
    "First, read in the CSV file and create the degree plan object:"
   ]
  },
  {
   "cell_type": "code",
   "execution_count": null,
   "metadata": {},
   "outputs": [],
   "source": []
  }
 ],
 "metadata": {
  "kernelspec": {
   "display_name": "Julia 1.0.0",
   "language": "julia",
   "name": "julia-1.0"
  },
  "language_info": {
   "file_extension": ".jl",
   "mimetype": "application/julia",
   "name": "julia",
   "version": "1.0.0"
  }
 },
 "nbformat": 4,
 "nbformat_minor": 2
}
